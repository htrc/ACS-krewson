{
 "cells": [
  {
   "cell_type": "markdown",
   "metadata": {},
   "source": [
    "# Visualize all illustrations for a given query\n",
    "\n",
    "The project data can be unwieldy to work with. In many cases, it is desirable to islate a subset of the 2.5+ million illustrated regions. Analysis can then be done at a smaller scale and more quickly.\n",
    "\n",
    "One intresting question about early 19C publishing concerns the range of artistic styles employed by a given publisher. Did publishers tend to suit their illustrations to the genre, perhaps employing specialist engraving workshops for different types of books? Or did they more or less draw on a common stock of available engravings?\n",
    "\n",
    "This notebook shows how to get started with such research. The goal will be to find the metadata for all books published in 1800-1850 by the Boston firm Munroe & Francis."
   ]
  },
  {
   "cell_type": "markdown",
   "metadata": {},
   "source": [
    "## Step 1: Search Hathifile for publisher\n",
    "\n",
    "Hathifiles can be very big, so we iteratively search them for field (column) values matching a query. This can take some finesse, since publisher names are often very similar and the name of a firm can be written in slightly different ways (e.g. '&' vs. 'and')."
   ]
  },
  {
   "cell_type": "code",
   "execution_count": 1,
   "metadata": {},
   "outputs": [],
   "source": [
    "import pandas as pd\n",
    "import numpy as np\n",
    "import os, random, re, sys\n",
    "from glob import glob\n",
    "from annoy import AnnoyIndex"
   ]
  },
  {
   "cell_type": "code",
   "execution_count": 2,
   "metadata": {},
   "outputs": [],
   "source": [
    "# the volumes used in the ACS project\n",
    "HATHIFILE = \"google_ids_1800-1850.txt.gz\"\n",
    "HATHICOLS = \"hathifiles/hathi_field_list.txt\""
   ]
  },
  {
   "cell_type": "code",
   "execution_count": 3,
   "metadata": {},
   "outputs": [],
   "source": [
    "def search_hathifile(ht_file, col_file, search_col, search_expr):\n",
    "    \"\"\"\n",
    "    Given a hathifile and field names, return dataframe of rows\n",
    "    where search_col contains search_expr (a regex)\n",
    "    \"\"\"\n",
    "    # Use iterative method to scale to full hathifiles\n",
    "    with open(col_file, \"r\") as fp:\n",
    "        col_names = fp.readline().strip('\\n').split('\\t')\n",
    "        num_cols = len(col_names)\n",
    "\n",
    "    # https://pandas.pydata.org/pandas-docs/stable/reference/api/pandas.read_csv.html\n",
    "    iter_csv = pd.read_csv(\n",
    "        ht_file, \n",
    "        sep='\\t', \n",
    "        header=None,\n",
    "        names=col_names,\n",
    "        engine='c',\n",
    "        # quicker if we can assert some types for the fields\n",
    "        dtype={\n",
    "            'htid': 'str',\n",
    "            'rights_date_used': 'object', # values NOT guaranteed to be numeric\n",
    "            'pub_place': 'str', # sadly, this is just the partner lib\n",
    "            'imprint': 'str'\n",
    "        },\n",
    "        iterator=True,\n",
    "        chunksize=5000,\n",
    "        error_bad_lines=False)\n",
    "\n",
    "    df = pd.DataFrame()\n",
    "    for i, chunk in enumerate(iter_csv):\n",
    "        condition = (chunk[search_col].str.contains(search_expr, na=False, flags=re.IGNORECASE))\n",
    "        \n",
    "        # hathifile idx has no relation to Neighbor tree: ignore\n",
    "        df = pd.concat([df, chunk[condition]], ignore_index=True)\n",
    "        \n",
    "    return df"
   ]
  },
  {
   "cell_type": "code",
   "execution_count": 4,
   "metadata": {},
   "outputs": [
    {
     "data": {
      "text/plain": [
       "(360, 26)"
      ]
     },
     "execution_count": 4,
     "metadata": {},
     "output_type": "execute_result"
    }
   ],
   "source": [
    "# find publishers \"Munroe, Francis\", \"Munroe and Francis\", \"Munroe & Francis\" (with matching group)\n",
    "search_col = 'imprint'\n",
    "search_expr = r\"\\bMunroe(?:,| and| &) Francis\\b\"\n",
    "\n",
    "# a label for the results of this experiment (in case you want to compare later)\n",
    "search_label = \"munroe-francis\"\n",
    "\n",
    "df = search_hathifile(HATHIFILE, HATHICOLS, search_col, search_expr)\n",
    "df.shape"
   ]
  },
  {
   "cell_type": "code",
   "execution_count": 5,
   "metadata": {},
   "outputs": [
    {
     "data": {
      "text/plain": [
       "Index(['htid', 'access', 'rights', 'ht_bib_key', 'description', 'source',\n",
       "       'source_bib_num', 'oclc_num', 'isbn', 'issn', 'lccn', 'title',\n",
       "       'imprint', 'rights_reason_code', 'rights_timestamp', 'us_gov_doc_flag',\n",
       "       'rights_date_used', 'pub_place', 'lang', 'bib_fmt', 'collection_code',\n",
       "       'content_provider_code', 'responsible_entity_code',\n",
       "       'digitization_agent_code', 'access_profile_code', 'author'],\n",
       "      dtype='object')"
      ]
     },
     "execution_count": 5,
     "metadata": {},
     "output_type": "execute_result"
    }
   ],
   "source": [
    "df.columns # use title, rights_date_used, imprint"
   ]
  },
  {
   "cell_type": "code",
   "execution_count": 7,
   "metadata": {},
   "outputs": [],
   "source": [
    "# convert date objects to integers, for the year of publication\n",
    "df['rights_date_used'] = pd.to_numeric(df['rights_date_used']).astype(int)"
   ]
  },
  {
   "cell_type": "code",
   "execution_count": 23,
   "metadata": {},
   "outputs": [
    {
     "data": {
      "text/html": [
       "<div>\n",
       "<style scoped>\n",
       "    .dataframe tbody tr th:only-of-type {\n",
       "        vertical-align: middle;\n",
       "    }\n",
       "\n",
       "    .dataframe tbody tr th {\n",
       "        vertical-align: top;\n",
       "    }\n",
       "\n",
       "    .dataframe thead th {\n",
       "        text-align: right;\n",
       "    }\n",
       "</style>\n",
       "<table border=\"1\" class=\"dataframe\">\n",
       "  <thead>\n",
       "    <tr style=\"text-align: right;\">\n",
       "      <th></th>\n",
       "      <th>imprint</th>\n",
       "      <th>title</th>\n",
       "      <th>rights_date_used</th>\n",
       "    </tr>\n",
       "  </thead>\n",
       "  <tbody>\n",
       "    <tr>\n",
       "      <th>185</th>\n",
       "      <td>Munroe and Francis, Charles S. Francis, 1833.</td>\n",
       "      <td>The children's friend; tr. from the French of ...</td>\n",
       "      <td>1833</td>\n",
       "    </tr>\n",
       "    <tr>\n",
       "      <th>330</th>\n",
       "      <td>Munroe and Francis, 1847.</td>\n",
       "      <td>Paul Preston's voyages,travels and remarkable ...</td>\n",
       "      <td>1847</td>\n",
       "    </tr>\n",
       "    <tr>\n",
       "      <th>295</th>\n",
       "      <td>Munroe and Francis, 1822.</td>\n",
       "      <td>An essay concerning tussis convulsiva, or, who...</td>\n",
       "      <td>1822</td>\n",
       "    </tr>\n",
       "    <tr>\n",
       "      <th>175</th>\n",
       "      <td>Printed by Munroe, Francis &amp; Parker, for thems...</td>\n",
       "      <td>The works of William Shakespeare. In nine volu...</td>\n",
       "      <td>1812</td>\n",
       "    </tr>\n",
       "    <tr>\n",
       "      <th>95</th>\n",
       "      <td>Published by E. Sargeant, and M. &amp; W. Ward; Mu...</td>\n",
       "      <td>The Spectator; a new edition corrected from th...</td>\n",
       "      <td>1810</td>\n",
       "    </tr>\n",
       "    <tr>\n",
       "      <th>277</th>\n",
       "      <td>Printed for Wells &amp; Lilly, Richardson &amp; Lord, ...</td>\n",
       "      <td>The works of Cornelius Tacitus: with an essay ...</td>\n",
       "      <td>1822</td>\n",
       "    </tr>\n",
       "    <tr>\n",
       "      <th>27</th>\n",
       "      <td>[Munroe and Francis], 1817-</td>\n",
       "      <td>Spirit of the English magazines.</td>\n",
       "      <td>1823</td>\n",
       "    </tr>\n",
       "    <tr>\n",
       "      <th>57</th>\n",
       "      <td>Printed by Munroe &amp; Francis, 1807.</td>\n",
       "      <td>The dramatick works of William Shakespeare : p...</td>\n",
       "      <td>1807</td>\n",
       "    </tr>\n",
       "    <tr>\n",
       "      <th>7</th>\n",
       "      <td>Munroe and Francis [etc.]</td>\n",
       "      <td>The Monthly anthology, and Boston review.</td>\n",
       "      <td>1810</td>\n",
       "    </tr>\n",
       "    <tr>\n",
       "      <th>223</th>\n",
       "      <td>Munroe and Francis, 1804-1811.</td>\n",
       "      <td>The Monthly anthology, and Boston review.</td>\n",
       "      <td>1804</td>\n",
       "    </tr>\n",
       "  </tbody>\n",
       "</table>\n",
       "</div>"
      ],
      "text/plain": [
       "                                               imprint  \\\n",
       "185      Munroe and Francis, Charles S. Francis, 1833.   \n",
       "330                          Munroe and Francis, 1847.   \n",
       "295                          Munroe and Francis, 1822.   \n",
       "175  Printed by Munroe, Francis & Parker, for thems...   \n",
       "95   Published by E. Sargeant, and M. & W. Ward; Mu...   \n",
       "277  Printed for Wells & Lilly, Richardson & Lord, ...   \n",
       "27                         [Munroe and Francis], 1817-   \n",
       "57                  Printed by Munroe & Francis, 1807.   \n",
       "7                            Munroe and Francis [etc.]   \n",
       "223                     Munroe and Francis, 1804-1811.   \n",
       "\n",
       "                                                 title  rights_date_used  \n",
       "185  The children's friend; tr. from the French of ...              1833  \n",
       "330  Paul Preston's voyages,travels and remarkable ...              1847  \n",
       "295  An essay concerning tussis convulsiva, or, who...              1822  \n",
       "175  The works of William Shakespeare. In nine volu...              1812  \n",
       "95   The Spectator; a new edition corrected from th...              1810  \n",
       "277  The works of Cornelius Tacitus: with an essay ...              1822  \n",
       "27                    Spirit of the English magazines.              1823  \n",
       "57   The dramatick works of William Shakespeare : p...              1807  \n",
       "7            The Monthly anthology, and Boston review.              1810  \n",
       "223          The Monthly anthology, and Boston review.              1804  "
      ]
     },
     "execution_count": 23,
     "metadata": {},
     "output_type": "execute_result"
    }
   ],
   "source": [
    "# show a few results -- just the search field and the date published\n",
    "df[[search_col, 'title', 'rights_date_used']].sample(10)"
   ]
  },
  {
   "cell_type": "markdown",
   "metadata": {},
   "source": [
    "## Step 2: Find search result matches in illustration metadata\n",
    "\n",
    "We have a bunch of `htid`s from the Hathifile, but many of them will not contain any illustrations. To narrow down our set of results, we need to look up the `htid`s in our illustration metadata. This can be done with the main CSV file or with the vectors.tar file. Either way, the goal is to get a list of all image or vector files corresponding to specific regions of interest (illustrations) for the volumes returned in our search.\n",
    "\n",
    "If you want to work with the vectors in `vectors.tar`, you will want to convert to HTRCs stubbytree format."
   ]
  },
  {
   "cell_type": "code",
   "execution_count": 9,
   "metadata": {},
   "outputs": [],
   "source": [
    "# Utility functions from Hathi's feature datasets\n",
    "# https://github.com/htrc/htrc-feature-reader/blob/39010fd41c049f4f86b9c8ff4a44e000217093c2/htrc_features/utils.py\n",
    "def _id_encode(id):\n",
    "    '''\n",
    "    :param id: A Pairtree ID. If it's a Hathitrust ID, this is the part after the library\n",
    "        code; e.g. the part after the first period for vol.123/456.\n",
    "    :return: A sanitized id. e.g., 123/456 will return as 123=456 to avoid filesystem issues.\n",
    "    '''\n",
    "    return id.replace(\":\", \"+\").replace(\"/\", \"=\").replace(\".\", \",\")\n",
    "\n",
    "def _id_decode(id):\n",
    "    '''\n",
    "    :param id: A sanitized Pairtree ID.\n",
    "    :return: An original Pairtree ID.\n",
    "    '''\n",
    "    return id.replace(\"+\", \":\").replace(\"=\", \"/\").replace(\",\", \".\")\n",
    "\n",
    "def clean_htid(htid):\n",
    "    '''\n",
    "    :param htid: A HathiTrust ID of form lib.vol; e.g. mdp.1234\n",
    "    :return: A sanitized version of the HathiTrust ID, appropriate for filename use.\n",
    "    '''\n",
    "    libid, volid = htid.split('.', 1)\n",
    "    volid_clean = _id_encode(volid)\n",
    "    return '.'.join([libid, volid_clean])\n",
    "\n",
    "def id_to_stubbytree(htid, format = None, suffix = None, compression = None):\n",
    "    '''\n",
    "    Take an HTRC id and convert it to a 'stubbytree' location.\n",
    "    '''\n",
    "    libid, volid = htid.split('.', 1)\n",
    "    volid_clean = _id_encode(volid)\n",
    "\n",
    "    suffixes = [s for s in [format, compression] if s is not None]\n",
    "    filename = \".\".join([clean_htid(htid), *suffixes])\n",
    "    path = os.path.join(libid, volid_clean[::3], filename)\n",
    "    return path"
   ]
  },
  {
   "cell_type": "code",
   "execution_count": 10,
   "metadata": {},
   "outputs": [],
   "source": [
    "# keep a mapping from unencoded htids from the hathifile...\n",
    "stubby_dict = {id_to_stubbytree(htid): htid for htid in df.htid.values}"
   ]
  },
  {
   "cell_type": "code",
   "execution_count": 12,
   "metadata": {},
   "outputs": [],
   "source": [
    "# N.B. this assumes the roi-vectors.tar file has been extracted to a directory named roi-vectors\n",
    "# adjust the path as necessary\n",
    "#VEC_DIR = os.path.abspath(\"roi-vectors\")"
   ]
  },
  {
   "cell_type": "code",
   "execution_count": 13,
   "metadata": {},
   "outputs": [],
   "source": [
    "# for each volume, find associated .npy vectors within stubbytree directory -- store in dictionary\n",
    "munroe_francis = {}\n",
    "\n",
    "for stubby_id in stubby_dict.keys():\n",
    "    vol_path = os.path.join(VEC_DIR, stubby_id + \"*.npy\")\n",
    "    vol_vectors = glob(vol_path)\n",
    "    if len(vol_vectors) != 0:\n",
    "        munroe_francis[stubby_id] = vol_vectors"
   ]
  },
  {
   "cell_type": "markdown",
   "metadata": {},
   "source": [
    "## Step 3: Reformat ROIs with metadata for Pixplot\n",
    "\n",
    "We can reformat our selected ROIs, taking selected columns and renaming them. If we are able to acquire image data, this will allow us to attach the metadata and build a PixPlot visualization.\n",
    "\n",
    "See https://github.com/YaleDHLab/pix-plot for more details."
   ]
  },
  {
   "cell_type": "code",
   "execution_count": 24,
   "metadata": {},
   "outputs": [],
   "source": [
    "# columns we want to keep from hathifile: these will map to 'description' and 'year' in PixPlot's format\n",
    "col_map = {\n",
    "    'rights_date_used': 'year',\n",
    "    'title': 'description'\n",
    "}\n",
    "\n",
    "rows = []\n",
    "for k, v in munroe_francis.items():\n",
    "    \n",
    "    # transform .npy file into jpeg, separate from rest of path\n",
    "    for npy_file in v:\n",
    "        \n",
    "        vec_base = os.path.basename(npy_file)\n",
    "        img_base = os.path.splitext(vec_base)[0] + '.jpg'\n",
    "        \n",
    "        # remember the unencoded htid\n",
    "        htid = stubby_dict[k]\n",
    "        \n",
    "        # row to be added to df_pixplot\n",
    "        row = {}\n",
    "        \n",
    "        # get metadata for this volume\n",
    "        metadata = df[df['htid'] == htid][col_map.keys()]\n",
    "        \n",
    "        # tricky, since values could be a list or object\n",
    "        for col in metadata.columns:\n",
    "            row[col_map[col]] = metadata[col].values[0]\n",
    "\n",
    "        # add img_base path and label\n",
    "        row['filename'] = img_base\n",
    "        row['label'] = search_label\n",
    "        \n",
    "        rows.append(row)"
   ]
  },
  {
   "cell_type": "code",
   "execution_count": 25,
   "metadata": {},
   "outputs": [
    {
     "data": {
      "text/html": [
       "<div>\n",
       "<style scoped>\n",
       "    .dataframe tbody tr th:only-of-type {\n",
       "        vertical-align: middle;\n",
       "    }\n",
       "\n",
       "    .dataframe tbody tr th {\n",
       "        vertical-align: top;\n",
       "    }\n",
       "\n",
       "    .dataframe thead th {\n",
       "        text-align: right;\n",
       "    }\n",
       "</style>\n",
       "<table border=\"1\" class=\"dataframe\">\n",
       "  <thead>\n",
       "    <tr style=\"text-align: right;\">\n",
       "      <th></th>\n",
       "      <th>year</th>\n",
       "      <th>description</th>\n",
       "      <th>filename</th>\n",
       "      <th>label</th>\n",
       "    </tr>\n",
       "  </thead>\n",
       "  <tbody>\n",
       "    <tr>\n",
       "      <th>1472</th>\n",
       "      <td>1846</td>\n",
       "      <td>Peter Parley's book of Bible stories for child...</td>\n",
       "      <td>hvd.hwrcv7_00000255_00.jpg</td>\n",
       "      <td>munroe-francis</td>\n",
       "    </tr>\n",
       "    <tr>\n",
       "      <th>1473</th>\n",
       "      <td>1836</td>\n",
       "      <td>The year book : an astronomical and philosophi...</td>\n",
       "      <td>uc1.b3082741_00000006_00.jpg</td>\n",
       "      <td>munroe-francis</td>\n",
       "    </tr>\n",
       "    <tr>\n",
       "      <th>1474</th>\n",
       "      <td>1836</td>\n",
       "      <td>The year book : an astronomical and philosophi...</td>\n",
       "      <td>uc1.b3082741_00000254_00.jpg</td>\n",
       "      <td>munroe-francis</td>\n",
       "    </tr>\n",
       "    <tr>\n",
       "      <th>1475</th>\n",
       "      <td>1836</td>\n",
       "      <td>The year book : an astronomical and philosophi...</td>\n",
       "      <td>nyp.33433112037308_00000012_00.jpg</td>\n",
       "      <td>munroe-francis</td>\n",
       "    </tr>\n",
       "    <tr>\n",
       "      <th>1476</th>\n",
       "      <td>1836</td>\n",
       "      <td>The year book : an astronomical and philosophi...</td>\n",
       "      <td>nyp.33433112037308_00000260_00.jpg</td>\n",
       "      <td>munroe-francis</td>\n",
       "    </tr>\n",
       "  </tbody>\n",
       "</table>\n",
       "</div>"
      ],
      "text/plain": [
       "      year                                        description  \\\n",
       "1472  1846  Peter Parley's book of Bible stories for child...   \n",
       "1473  1836  The year book : an astronomical and philosophi...   \n",
       "1474  1836  The year book : an astronomical and philosophi...   \n",
       "1475  1836  The year book : an astronomical and philosophi...   \n",
       "1476  1836  The year book : an astronomical and philosophi...   \n",
       "\n",
       "                                filename           label  \n",
       "1472          hvd.hwrcv7_00000255_00.jpg  munroe-francis  \n",
       "1473        uc1.b3082741_00000006_00.jpg  munroe-francis  \n",
       "1474        uc1.b3082741_00000254_00.jpg  munroe-francis  \n",
       "1475  nyp.33433112037308_00000012_00.jpg  munroe-francis  \n",
       "1476  nyp.33433112037308_00000260_00.jpg  munroe-francis  "
      ]
     },
     "execution_count": 25,
     "metadata": {},
     "output_type": "execute_result"
    }
   ],
   "source": [
    "# turn dict rows into dataframe -- 'filename' shows the convention for image paths used in the project\n",
    "df_pixplot = pd.DataFrame.from_dict(rows)\n",
    "df_pixplot.tail(5)"
   ]
  },
  {
   "cell_type": "code",
   "execution_count": 18,
   "metadata": {},
   "outputs": [],
   "source": [
    "# use the search label to make a metadata path\n",
    "metadata_csv = \"{}_metadata.csv\".format(search_label)\n",
    "\n",
    "# save as a CSV that PixPlot can accept\n",
    "df_pixplot.to_csv(metadata_csv, sep=',', header=True, index=False)"
   ]
  },
  {
   "cell_type": "markdown",
   "metadata": {},
   "source": [
    "## Step 4 (optional): Create Annoy index using project vectors\n",
    "\n",
    "You can experiment with building a smaller Annoy index with just these results."
   ]
  },
  {
   "cell_type": "code",
   "execution_count": null,
   "metadata": {},
   "outputs": [],
   "source": [
    "# Modified from: https://github.com/spotify/annoy\n",
    "f = 1000\n",
    "t = AnnoyIndex(f, 'angular')\n",
    "i = 0\n",
    "\n",
    "# Find all vectors per volume and index them from 0\n",
    "for k,v in munroe_francis.items():\n",
    "    for vec in v:\n",
    "        item = np.load(vec)\n",
    "        # transpose vector since it needs to be (1000,1) not (1,1000)\n",
    "        t.add_item(i, item.T)\n",
    "        i += 1\n",
    "\n",
    "# Try with 1000 trees\n",
    "t.build(1000)\n",
    "t.save('munroe-francis.ann')"
   ]
  },
  {
   "cell_type": "code",
   "execution_count": null,
   "metadata": {},
   "outputs": [],
   "source": [
    "u = AnnoyIndex(f, 'angular')\n",
    "u.load('munroe-francis.ann')\n",
    "print(u.get_nns_by_item(0, 10))"
   ]
  }
 ],
 "metadata": {
  "kernelspec": {
   "display_name": "Python 3",
   "language": "python",
   "name": "python3"
  },
  "language_info": {
   "codemirror_mode": {
    "name": "ipython",
    "version": 3
   },
   "file_extension": ".py",
   "mimetype": "text/x-python",
   "name": "python",
   "nbconvert_exporter": "python",
   "pygments_lexer": "ipython3",
   "version": "3.7.7"
  }
 },
 "nbformat": 4,
 "nbformat_minor": 2
}
