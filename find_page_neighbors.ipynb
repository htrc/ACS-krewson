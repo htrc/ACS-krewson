{
 "cells": [
  {
   "cell_type": "markdown",
   "metadata": {},
   "source": [
    "# Page neighbors metadata\n",
    "\n",
    "This notebook shows how to perform a basic task: how to gather the metadata for the k most similar images to a given page. The example assumes that you are browsing HathiTrust for a volume within the project scope (one that is likely to have been processed during the project and thus be indexed). You will need access to the index and metadata files from Zenodo:\n",
    "\n",
    "https://zenodo.org/record/3940528#.XyRNSZ5KjIU"
   ]
  },
  {
   "cell_type": "code",
   "execution_count": 166,
   "metadata": {},
   "outputs": [],
   "source": [
    "import pandas as pd\n",
    "import numpy as np\n",
    "import os, random, re, sys\n",
    "from annoy import AnnoyIndex\n",
    "from glob import glob"
   ]
  },
  {
   "cell_type": "code",
   "execution_count": 169,
   "metadata": {},
   "outputs": [
    {
     "data": {
      "text/plain": [
       "True"
      ]
     },
     "execution_count": 169,
     "metadata": {},
     "output_type": "execute_result"
    }
   ],
   "source": [
    "# the full 17GB index is very fast! Although the time to build it scales linearly\n",
    "# cf. https://markroxor.github.io/gensim/static/notebooks/annoytutorial.html\n",
    "u2 = AnnoyIndex(f, 'angular')\n",
    "u2.load('early-19C-illustrations_full-index.ann')"
   ]
  },
  {
   "cell_type": "code",
   "execution_count": 170,
   "metadata": {},
   "outputs": [],
   "source": [
    "# load the derived metadata summary file (also on Zenodo)\n",
    "df_meta = pd.read_csv('early-19C-illustrations_metadata.csv')"
   ]
  },
  {
   "cell_type": "code",
   "execution_count": 173,
   "metadata": {},
   "outputs": [
    {
     "data": {
      "text/plain": [
       "Index(['htid', 'page_seq', 'page_label', 'crop_no', 'vector_path'], dtype='object')"
      ]
     },
     "execution_count": 173,
     "metadata": {},
     "output_type": "execute_result"
    }
   ],
   "source": [
    "df_meta.columns"
   ]
  },
  {
   "cell_type": "code",
   "execution_count": 174,
   "metadata": {},
   "outputs": [],
   "source": [
    "def htid_page_seq_nns_metadata(htid, seq_num, nns_index, df_meta, k):\n",
    "    \"\"\"Given a target htid and sequence number, as well as an Annoy index and the project metadata, \n",
    "    return metadata for the k neighbors of that htid:page_seq pair.\"\"\"\n",
    "    \n",
    "    # get the index for the page in question\n",
    "    idx = df_meta[(df_meta['htid'] == htid) & (df_meta['page_seq'] == seq_num)].index\n",
    "    \n",
    "    # multiple crops alert\n",
    "    if len(idx) > 1:\n",
    "        print(\"Multiple crops for this page_seq\")\n",
    "        \n",
    "    # the nearest neighbor ROI indices\n",
    "    nns = nns_index.get_nns_by_item(idx[0], k)\n",
    "    \n",
    "    # return rows from metadat table matching these indices\n",
    "    return df_meta.iloc[nns]"
   ]
  },
  {
   "cell_type": "code",
   "execution_count": 176,
   "metadata": {},
   "outputs": [
    {
     "data": {
      "text/html": [
       "<div>\n",
       "<style scoped>\n",
       "    .dataframe tbody tr th:only-of-type {\n",
       "        vertical-align: middle;\n",
       "    }\n",
       "\n",
       "    .dataframe tbody tr th {\n",
       "        vertical-align: top;\n",
       "    }\n",
       "\n",
       "    .dataframe thead th {\n",
       "        text-align: right;\n",
       "    }\n",
       "</style>\n",
       "<table border=\"1\" class=\"dataframe\">\n",
       "  <thead>\n",
       "    <tr style=\"text-align: right;\">\n",
       "      <th></th>\n",
       "      <th>htid</th>\n",
       "      <th>page_seq</th>\n",
       "      <th>page_label</th>\n",
       "      <th>crop_no</th>\n",
       "      <th>vector_path</th>\n",
       "    </tr>\n",
       "  </thead>\n",
       "  <tbody>\n",
       "    <tr>\n",
       "      <th>1617907</th>\n",
       "      <td>uiug.30112003448526</td>\n",
       "      <td>28</td>\n",
       "      <td>inline_image</td>\n",
       "      <td>0</td>\n",
       "      <td>uiug/31042/uiug.30112003448526_00000028_00.npy</td>\n",
       "    </tr>\n",
       "    <tr>\n",
       "      <th>254046</th>\n",
       "      <td>ucm.5321309033</td>\n",
       "      <td>347</td>\n",
       "      <td>inline_image</td>\n",
       "      <td>0</td>\n",
       "      <td>ucm/5193/ucm.5321309033_00000347_00.npy</td>\n",
       "    </tr>\n",
       "    <tr>\n",
       "      <th>1613603</th>\n",
       "      <td>uiug.30112048888058</td>\n",
       "      <td>326</td>\n",
       "      <td>inline_image</td>\n",
       "      <td>0</td>\n",
       "      <td>uiug/31485/uiug.30112048888058_00000326_00.npy</td>\n",
       "    </tr>\n",
       "    <tr>\n",
       "      <th>1269805</th>\n",
       "      <td>chi.097881099</td>\n",
       "      <td>75</td>\n",
       "      <td>inline_image</td>\n",
       "      <td>0</td>\n",
       "      <td>chi/080/chi.097881099_00000075_00.npy</td>\n",
       "    </tr>\n",
       "    <tr>\n",
       "      <th>1844016</th>\n",
       "      <td>uc1.c046857802</td>\n",
       "      <td>166</td>\n",
       "      <td>inline_image</td>\n",
       "      <td>1</td>\n",
       "      <td>uc1/c672/uc1.c046857802_00000166_01.npy</td>\n",
       "    </tr>\n",
       "    <tr>\n",
       "      <th>1341309</th>\n",
       "      <td>chi.79355181</td>\n",
       "      <td>551</td>\n",
       "      <td>inline_image</td>\n",
       "      <td>0</td>\n",
       "      <td>chi/758/chi.79355181_00000551_00.npy</td>\n",
       "    </tr>\n",
       "    <tr>\n",
       "      <th>1724782</th>\n",
       "      <td>uc1.$b557159</td>\n",
       "      <td>190</td>\n",
       "      <td>plate_image</td>\n",
       "      <td>0</td>\n",
       "      <td>uc1/$55/uc1.$b557159_00000190_00.npy</td>\n",
       "    </tr>\n",
       "    <tr>\n",
       "      <th>1407896</th>\n",
       "      <td>njp.32101063578338</td>\n",
       "      <td>46</td>\n",
       "      <td>plate_image</td>\n",
       "      <td>0</td>\n",
       "      <td>njp/30673/njp.32101063578338_00000046_00.npy</td>\n",
       "    </tr>\n",
       "    <tr>\n",
       "      <th>2438718</th>\n",
       "      <td>hvd.hn5cxz</td>\n",
       "      <td>19</td>\n",
       "      <td>inline_image</td>\n",
       "      <td>0</td>\n",
       "      <td>hvd/hc/hvd.hn5cxz_00000019_00.npy</td>\n",
       "    </tr>\n",
       "    <tr>\n",
       "      <th>1454741</th>\n",
       "      <td>njp.32101080155110</td>\n",
       "      <td>80</td>\n",
       "      <td>plate_image</td>\n",
       "      <td>0</td>\n",
       "      <td>njp/30851/njp.32101080155110_00000080_00.npy</td>\n",
       "    </tr>\n",
       "  </tbody>\n",
       "</table>\n",
       "</div>"
      ],
      "text/plain": [
       "                        htid  page_seq    page_label  crop_no  \\\n",
       "1617907  uiug.30112003448526        28  inline_image        0   \n",
       "254046        ucm.5321309033       347  inline_image        0   \n",
       "1613603  uiug.30112048888058       326  inline_image        0   \n",
       "1269805        chi.097881099        75  inline_image        0   \n",
       "1844016       uc1.c046857802       166  inline_image        1   \n",
       "1341309         chi.79355181       551  inline_image        0   \n",
       "1724782         uc1.$b557159       190   plate_image        0   \n",
       "1407896   njp.32101063578338        46   plate_image        0   \n",
       "2438718           hvd.hn5cxz        19  inline_image        0   \n",
       "1454741   njp.32101080155110        80   plate_image        0   \n",
       "\n",
       "                                            vector_path  \n",
       "1617907  uiug/31042/uiug.30112003448526_00000028_00.npy  \n",
       "254046          ucm/5193/ucm.5321309033_00000347_00.npy  \n",
       "1613603  uiug/31485/uiug.30112048888058_00000326_00.npy  \n",
       "1269805           chi/080/chi.097881099_00000075_00.npy  \n",
       "1844016         uc1/c672/uc1.c046857802_00000166_01.npy  \n",
       "1341309            chi/758/chi.79355181_00000551_00.npy  \n",
       "1724782            uc1/$55/uc1.$b557159_00000190_00.npy  \n",
       "1407896    njp/30673/njp.32101063578338_00000046_00.npy  \n",
       "2438718               hvd/hc/hvd.hn5cxz_00000019_00.npy  \n",
       "1454741    njp/30851/njp.32101080155110_00000080_00.npy  "
      ]
     },
     "execution_count": 176,
     "metadata": {},
     "output_type": "execute_result"
    }
   ],
   "source": [
    "# Call the method using the htid and sequence number displayed when browsing hathi trust\n",
    "# For example, this call corresponds to the following URL\n",
    "# https://babel.hathitrust.org/cgi/pt?id=uiug.30112003448526&view=1up&seq=28\n",
    "#\n",
    "# WARNING! the returned dataframe will be empty if the supplied htid + page_seq are not in the project dataset\n",
    "\n",
    "sample_page_nns = htid_page_seq_nns_metadata('uiug.30112003448526', 28, u2, df_meta, 10)\n",
    "sample_page_nns"
   ]
  },
  {
   "cell_type": "code",
   "execution_count": null,
   "metadata": {},
   "outputs": [],
   "source": []
  }
 ],
 "metadata": {
  "kernelspec": {
   "display_name": "Python 3",
   "language": "python",
   "name": "python3"
  },
  "language_info": {
   "codemirror_mode": {
    "name": "ipython",
    "version": 3
   },
   "file_extension": ".py",
   "mimetype": "text/x-python",
   "name": "python",
   "nbconvert_exporter": "python",
   "pygments_lexer": "ipython3",
   "version": "3.7.3"
  }
 },
 "nbformat": 4,
 "nbformat_minor": 2
}
